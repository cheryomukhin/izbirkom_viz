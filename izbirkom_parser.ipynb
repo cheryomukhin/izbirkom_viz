{
 "cells": [
  {
   "cell_type": "code",
   "execution_count": 13,
   "metadata": {
    "collapsed": true
   },
   "outputs": [],
   "source": [
    "import os\n",
    "import pandas as pd\n",
    "from bs4 import BeautifulSoup\n",
    "import requests"
   ]
  },
  {
   "cell_type": "code",
   "execution_count": 16,
   "metadata": {},
   "outputs": [],
   "source": [
    "url = \"http://www.moscow_city.vybory.izbirkom.ru/region/moscow_city\"\n",
    "response = requests.get(url)\n",
    "page = BeautifulSoup(response.content, \"lxml\")"
   ]
  },
  {
   "cell_type": "code",
   "execution_count": 10,
   "metadata": {
    "collapsed": true
   },
   "outputs": [],
   "source": [
    "dump_folder = 'tmp'"
   ]
  },
  {
   "cell_type": "code",
   "execution_count": 17,
   "metadata": {},
   "outputs": [],
   "source": [
    "votes = {'atd':'', 'data':{}}\n",
    "\n",
    "admin_data = pd.read_html(url)[7]\n",
    "admin_data.columns = ['admin','municipal']\n",
    "admin_data = admin_data.iloc[1:,:]\n",
    "admin_data = admin_data.fillna(method='ffill')\n",
    "admin_data['municipal'] = admin_data['municipal'].str.replace('Выборы депутатов Совета депутатов муниципального округа ', '')\n",
    "admin_data['municipal'] = admin_data['municipal'].str.replace('Выборы депутатов муниципального Собрания внутригородского муниципального образования ', '')\n",
    "admin_data['municipal'] = admin_data['municipal'].str.replace('Выборы депутатов Совета депутатов городского округа ', '')\n",
    "admin_data['municipal'] = admin_data['municipal'].str.replace(' в городе Москве', '')\n",
    "admin_data['municipal'] = admin_data['municipal'].str.strip()\n",
    "admin_data['admin'] = admin_data['admin'].str.replace('город Москва ','')\n",
    "admin_data['admin'] = admin_data['admin'].str.replace(' административный округ','')\n",
    "admin_data['admin'] = admin_data['admin'].str.strip()\n",
    "votes['atd'] = admin_data\n",
    "admin_data.to_csv(os.path.join(dump_folder, 'atd.csv'), sep=';')\n",
    "\n",
    "main_links = page.find_all('a')\n",
    "for main_tag in main_links:\n",
    "    main_link = main_tag.get('href',None)\n",
    "    if 'region=77'in main_link:\n",
    "        name = main_tag.text.replace('Выборы депутатов Совета депутатов муниципального округа ', '').replace('Выборы депутатов муниципального Собрания внутригородского муниципального образования ', '').replace('Выборы депутатов Совета депутатов городского округа ', '').replace(' в городе Москве', '').strip()\n",
    "        votes['data'][name] = {'votes':{}}\n",
    "        region_page = BeautifulSoup(requests.get(main_link).content, \"lxml\")\n",
    "        tik_tags = region_page.find_all('option')\n",
    "        region_tags = region_page.find_all('a')\n",
    "        for region_tag in region_tags:\n",
    "            region_link = region_tag.get('href',None)\n",
    "            if 'type=220'in region_link:\n",
    "                candidates = []\n",
    "                for i in range(1,6):\n",
    "                    candidates_link = region_link + '&number=' + str(i)\n",
    "                    try:\n",
    "                        candidates_df = pd.read_html(candidates_link, encoding='cp1251')[5].iloc[:,1:]\n",
    "                        candidates_df.columns = ['name','date', 'party', 'okrug', 'drived', 'registered', 'elected']\n",
    "                        candidates.append(candidates_df)\n",
    "                    except:\n",
    "                        pass\n",
    "                candidates = pd.concat(candidates, axis=0).reset_index().drop('index',axis=1)\n",
    "                votes['data'][name]['candidates'] = candidates\n",
    "                candidates.to_csv(os.path.join(dump_folder, ('data_' + name + '_candidates.csv')), sep=';')\n",
    "        for tik_tag in tik_tags:\n",
    "            tik_link = tik_tag.get('value',None)\n",
    "            if tik_link is not None:\n",
    "                okrug = int(tik_tag.text[-1])\n",
    "                tik_page = BeautifulSoup(requests.get(tik_link).content, \"lxml\")\n",
    "                okrug_tags = tik_page.find_all('a')\n",
    "                for okrug_tag in okrug_tags:\n",
    "                    okrug_link = okrug_tag.get('href',None)\n",
    "                    if 'type=424'in okrug_link:\n",
    "                        dd = pd.read_html(okrug_link)\n",
    "                        okrug_df = pd.concat([dd[6], dd[7]], axis=1)\n",
    "                        okrug_columns = ['parameter', 'overall'] + list(okrug_df.iloc[0,:])[3:]\n",
    "                        candidates_columns = ['name', 'overall'] + list(okrug_df.iloc[0,:])[3:]\n",
    "                        okrug_stats = okrug_df.iloc[1:13,1:]\n",
    "                        candidates_stats = okrug_df.iloc[14:,1:]\n",
    "                        okrug_stats.columns = okrug_columns\n",
    "                        candidates_stats.columns = candidates_columns\n",
    "                        okrug_stats.to_csv(os.path.join(dump_folder, ('data_' + name + '_' + str(okrug) + '_okrug_stats.csv')), sep=';')\n",
    "                        candidates_stats.to_csv(os.path.join(dump_folder, ('data_' + name + '_' + str(okrug) + '_candidates_stats.csv')), sep=';')\n",
    "                        okrug_stats = {'okrug_stats': okrug_stats, 'candidates_stats': candidates_stats}\n",
    "                        votes['data'][name]['votes'][okrug] = okrug_stats"
   ]
  }
 ],
 "metadata": {
  "anaconda-cloud": {},
  "kernelspec": {
   "display_name": "Python [conda env:gis_testing]",
   "language": "python",
   "name": "conda-env-gis_testing-py"
  },
  "language_info": {
   "codemirror_mode": {
    "name": "ipython",
    "version": 3
   },
   "file_extension": ".py",
   "mimetype": "text/x-python",
   "name": "python",
   "nbconvert_exporter": "python",
   "pygments_lexer": "ipython3",
   "version": "3.6.2"
  }
 },
 "nbformat": 4,
 "nbformat_minor": 2
}
